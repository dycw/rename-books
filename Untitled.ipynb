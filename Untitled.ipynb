{
 "cells": [
  {
   "cell_type": "code",
   "execution_count": 23,
   "id": "7f8549dc-54c7-484b-9587-a5628df7884e",
   "metadata": {
    "execution": {
     "iopub.execute_input": "2025-05-10T12:19:18.841901Z",
     "iopub.status.busy": "2025-05-10T12:19:18.840963Z",
     "iopub.status.idle": "2025-05-10T12:19:18.846686Z",
     "shell.execute_reply": "2025-05-10T12:19:18.845911Z",
     "shell.execute_reply.started": "2025-05-10T12:19:18.841855Z"
    }
   },
   "outputs": [],
   "source": [
    "from __future__ import annotations\n",
    "\n",
    "from utilities.random import *\n",
    "\n",
    "from rename_books.classes import *\n",
    "from rename_books.constants import *\n",
    "from rename_books.lib import *"
   ]
  },
  {
   "cell_type": "code",
   "execution_count": 27,
   "id": "ea5da219-0ce7-4a8a-8ae1-be35fb3975a9",
   "metadata": {
    "execution": {
     "iopub.execute_input": "2025-05-10T12:20:10.438527Z",
     "iopub.status.busy": "2025-05-10T12:20:10.438009Z",
     "iopub.status.idle": "2025-05-10T12:20:10.463166Z",
     "shell.execute_reply": "2025-05-10T12:20:10.462583Z",
     "shell.execute_reply.started": "2025-05-10T12:20:10.438493Z"
    }
   },
   "outputs": [
    {
     "data": {
      "text/plain": [
       "PosixPath('/Users/derekwan/Dropbox/1 – Derek/Books and papers/Books/2004/2004 — Trading Risk – Enhanced Profitability through Risk Control (Grant).pdf')"
      ]
     },
     "execution_count": 27,
     "metadata": {},
     "output_type": "execute_result"
    }
   ],
   "source": [
    "path = one(p for p in BOOKS.rglob(\"**/*.pdf\") if search(\"Enhanced Profit\", p.stem))\n",
    "path"
   ]
  },
  {
   "cell_type": "code",
   "execution_count": 28,
   "id": "9ccd8221-b6c8-404b-82c8-eea3d13de59e",
   "metadata": {
    "execution": {
     "iopub.execute_input": "2025-05-10T12:20:18.568607Z",
     "iopub.status.busy": "2025-05-10T12:20:18.568004Z",
     "iopub.status.idle": "2025-05-10T12:20:18.575419Z",
     "shell.execute_reply": "2025-05-10T12:20:18.574851Z",
     "shell.execute_reply.started": "2025-05-10T12:20:18.568564Z"
    }
   },
   "outputs": [
    {
     "data": {
      "text/plain": [
       "False"
      ]
     },
     "execution_count": 28,
     "metadata": {},
     "output_type": "execute_result"
    }
   ],
   "source": [
    "MetaData.is_normalized(path)"
   ]
  },
  {
   "cell_type": "code",
   "execution_count": 37,
   "id": "648f5ad1-47a6-43c9-8b72-fd06590b81cc",
   "metadata": {
    "execution": {
     "iopub.execute_input": "2025-05-10T12:21:40.037797Z",
     "iopub.status.busy": "2025-05-10T12:21:40.036996Z",
     "iopub.status.idle": "2025-05-10T12:21:40.047144Z",
     "shell.execute_reply": "2025-05-10T12:21:40.046079Z",
     "shell.execute_reply.started": "2025-05-10T12:21:40.037746Z"
    }
   },
   "outputs": [
    {
     "data": {
      "text/plain": [
       "PosixPath('/Users/derekwan/Dropbox/1 – Derek/Books and papers/Books/2004/2004 — Trading Risk – Enhanced Profitability Through Risk Control (Grant).pdf')"
      ]
     },
     "execution_count": 37,
     "metadata": {},
     "output_type": "execute_result"
    }
   ],
   "source": [
    "norm = MetaData.normalize(path)\n",
    "norm"
   ]
  },
  {
   "cell_type": "code",
   "execution_count": 31,
   "id": "f186bdba-8728-4f75-80d1-3f3d0d6e9376",
   "metadata": {
    "execution": {
     "iopub.execute_input": "2025-05-10T12:20:40.539376Z",
     "iopub.status.busy": "2025-05-10T12:20:40.538911Z",
     "iopub.status.idle": "2025-05-10T12:20:40.545057Z",
     "shell.execute_reply": "2025-05-10T12:20:40.544597Z",
     "shell.execute_reply.started": "2025-05-10T12:20:40.539349Z"
    }
   },
   "outputs": [
    {
     "data": {
      "text/plain": [
       "False"
      ]
     },
     "execution_count": 31,
     "metadata": {},
     "output_type": "execute_result"
    }
   ],
   "source": [
    "str(path) == str(norm)"
   ]
  },
  {
   "cell_type": "code",
   "execution_count": 33,
   "id": "a82fec45-68d8-4b26-aab3-4fa02e1c6322",
   "metadata": {
    "execution": {
     "iopub.execute_input": "2025-05-10T12:20:50.576223Z",
     "iopub.status.busy": "2025-05-10T12:20:50.575488Z",
     "iopub.status.idle": "2025-05-10T12:20:50.584798Z",
     "shell.execute_reply": "2025-05-10T12:20:50.583741Z",
     "shell.execute_reply.started": "2025-05-10T12:20:50.576172Z"
    }
   },
   "outputs": [
    {
     "data": {
      "text/plain": [
       "(139, 139)"
      ]
     },
     "execution_count": 33,
     "metadata": {},
     "output_type": "execute_result"
    }
   ],
   "source": [
    "len(str(path)), len(str(norm))"
   ]
  },
  {
   "cell_type": "code",
   "execution_count": 36,
   "id": "56c45799-c4d0-438c-b4fc-080e5eb6e486",
   "metadata": {
    "execution": {
     "iopub.execute_input": "2025-05-10T12:21:33.599626Z",
     "iopub.status.busy": "2025-05-10T12:21:33.599202Z",
     "iopub.status.idle": "2025-05-10T12:21:33.606129Z",
     "shell.execute_reply": "2025-05-10T12:21:33.605367Z",
     "shell.execute_reply.started": "2025-05-10T12:21:33.599602Z"
    }
   },
   "outputs": [
    {
     "name": "stdout",
     "output_type": "stream",
     "text": [
      "107 't' 'T'\n"
     ]
    }
   ],
   "source": [
    "for _i, (l, r) in enumerate(zip(str(path), str(norm), strict=False)):\n",
    "    if l != r:\n",
    "        pass"
   ]
  },
  {
   "cell_type": "code",
   "execution_count": null,
   "id": "d439076d-fb6e-4f75-bf12-17a5ba38e5ec",
   "metadata": {},
   "outputs": [],
   "source": []
  },
  {
   "cell_type": "code",
   "execution_count": null,
   "id": "9e9586c4-5c93-4b07-b190-26abde1261c3",
   "metadata": {},
   "outputs": [],
   "source": []
  },
  {
   "cell_type": "code",
   "execution_count": null,
   "id": "9a09ccac-381d-4762-8a60-91154da1a436",
   "metadata": {},
   "outputs": [],
   "source": []
  },
  {
   "cell_type": "code",
   "execution_count": 7,
   "id": "8f5853b1-df6d-4e56-a69d-424f0949a966",
   "metadata": {
    "execution": {
     "iopub.execute_input": "2025-05-10T12:05:41.849936Z",
     "iopub.status.busy": "2025-05-10T12:05:41.849649Z",
     "iopub.status.idle": "2025-05-10T12:05:41.853778Z",
     "shell.execute_reply": "2025-05-10T12:05:41.853266Z",
     "shell.execute_reply.started": "2025-05-10T12:05:41.849917Z"
    }
   },
   "outputs": [
    {
     "data": {
      "text/plain": [
       "StemMetaData(year=2010, title='Chart Your Way to Profits', subtitles=(\"The Online Trader's Guide to Technical Analysis With ProphetCharts\",), authors=('Knight',))"
      ]
     },
     "execution_count": 7,
     "metadata": {},
     "output_type": "execute_result"
    }
   ],
   "source": [
    "meta = StemMetaData.from_text(name)\n",
    "meta"
   ]
  },
  {
   "cell_type": "code",
   "execution_count": 11,
   "id": "ef7c406f-c8b8-44b5-9ab6-69d5ffa6142e",
   "metadata": {
    "execution": {
     "iopub.execute_input": "2025-05-10T12:05:55.783816Z",
     "iopub.status.busy": "2025-05-10T12:05:55.783285Z",
     "iopub.status.idle": "2025-05-10T12:05:55.790341Z",
     "shell.execute_reply": "2025-05-10T12:05:55.789908Z",
     "shell.execute_reply.started": "2025-05-10T12:05:55.783785Z"
    }
   },
   "outputs": [
    {
     "data": {
      "text/plain": [
       "\"2010 — Chart Your Way to Profits – The Online Trader's Guide to Technical Analysis With ProphetCharts (Knight)\""
      ]
     },
     "execution_count": 11,
     "metadata": {},
     "output_type": "execute_result"
    }
   ],
   "source": [
    "meta.normalize(name)"
   ]
  },
  {
   "cell_type": "code",
   "execution_count": 12,
   "id": "413519c3-0d3e-4117-92f0-1d220885061d",
   "metadata": {
    "execution": {
     "iopub.execute_input": "2025-05-10T12:06:04.379126Z",
     "iopub.status.busy": "2025-05-10T12:06:04.378577Z",
     "iopub.status.idle": "2025-05-10T12:06:04.385132Z",
     "shell.execute_reply": "2025-05-10T12:06:04.383946Z",
     "shell.execute_reply.started": "2025-05-10T12:06:04.379093Z"
    }
   },
   "outputs": [
    {
     "data": {
      "text/plain": [
       "True"
      ]
     },
     "execution_count": 12,
     "metadata": {},
     "output_type": "execute_result"
    }
   ],
   "source": [
    "meta.normalize(name) == name"
   ]
  },
  {
   "cell_type": "code",
   "execution_count": 13,
   "id": "9931ab93-63b6-4639-bf6f-ee2c8ebd9686",
   "metadata": {
    "execution": {
     "iopub.execute_input": "2025-05-10T12:06:13.164308Z",
     "iopub.status.busy": "2025-05-10T12:06:13.163766Z",
     "iopub.status.idle": "2025-05-10T12:06:13.171114Z",
     "shell.execute_reply": "2025-05-10T12:06:13.170359Z",
     "shell.execute_reply.started": "2025-05-10T12:06:13.164280Z"
    }
   },
   "outputs": [
    {
     "data": {
      "text/plain": [
       "True"
      ]
     },
     "execution_count": 13,
     "metadata": {},
     "output_type": "execute_result"
    }
   ],
   "source": [
    "meta.is_normalized(name)"
   ]
  },
  {
   "cell_type": "code",
   "execution_count": null,
   "id": "d198ea54-b7aa-4555-860c-a02ece9e0bb8",
   "metadata": {},
   "outputs": [],
   "source": []
  },
  {
   "cell_type": "code",
   "execution_count": 17,
   "id": "d4cc54ac-30e0-4ed4-b853-00599049bc21",
   "metadata": {
    "execution": {
     "iopub.execute_input": "2025-05-10T12:07:19.840195Z",
     "iopub.status.busy": "2025-05-10T12:07:19.839734Z",
     "iopub.status.idle": "2025-05-10T12:07:19.844195Z",
     "shell.execute_reply": "2025-05-10T12:07:19.843445Z",
     "shell.execute_reply.started": "2025-05-10T12:07:19.840167Z"
    }
   },
   "outputs": [],
   "source": [
    "stem = \"\"\"2010 — Chart Your Way to Profits – The Online Trader's Guide to Technical Analysis With ProphetCharts (Knight).pdf\"\"\""
   ]
  },
  {
   "cell_type": "code",
   "execution_count": 19,
   "id": "3266d552-c56e-439e-a718-53eb7d05661b",
   "metadata": {
    "execution": {
     "iopub.execute_input": "2025-05-10T12:07:24.862270Z",
     "iopub.status.busy": "2025-05-10T12:07:24.861799Z",
     "iopub.status.idle": "2025-05-10T12:07:24.867922Z",
     "shell.execute_reply": "2025-05-10T12:07:24.866906Z",
     "shell.execute_reply.started": "2025-05-10T12:07:24.862242Z"
    }
   },
   "outputs": [
    {
     "data": {
      "text/plain": [
       "PosixPath(\"/Users/derekwan/work/rename-books/2010 — Chart Your Way to Profits – The Online Trader's Guide to Technical Analysis With ProphetCharts (Knight).pdf\")"
      ]
     },
     "execution_count": 19,
     "metadata": {},
     "output_type": "execute_result"
    }
   ],
   "source": [
    "path = Path.cwd().joinpath(stem)\n",
    "path"
   ]
  },
  {
   "cell_type": "code",
   "execution_count": 22,
   "id": "b5231303-572a-4f6c-809b-248c7bbcba8f",
   "metadata": {
    "execution": {
     "iopub.execute_input": "2025-05-10T12:07:37.887470Z",
     "iopub.status.busy": "2025-05-10T12:07:37.886941Z",
     "iopub.status.idle": "2025-05-10T12:07:37.898976Z",
     "shell.execute_reply": "2025-05-10T12:07:37.898524Z",
     "shell.execute_reply.started": "2025-05-10T12:07:37.887433Z"
    }
   },
   "outputs": [
    {
     "data": {
      "text/plain": [
       "PosixPath(\"/Users/derekwan/work/rename-books/2010 — Chart Your Way to Profits – The Online Trader's Guide to Technical Analysis With ProphetCharts (Knight).pdf\")"
      ]
     },
     "execution_count": 22,
     "metadata": {},
     "output_type": "execute_result"
    },
    {
     "data": {
      "text/plain": [
       "True"
      ]
     },
     "execution_count": 22,
     "metadata": {},
     "output_type": "execute_result"
    },
    {
     "data": {
      "text/plain": [
       "True"
      ]
     },
     "execution_count": 22,
     "metadata": {},
     "output_type": "execute_result"
    }
   ],
   "source": [
    "MetaData.from_path(path).to_path\n",
    "MetaData.from_path(path).to_path == path\n",
    "MetaData.is_normalized(path)"
   ]
  },
  {
   "cell_type": "code",
   "execution_count": null,
   "id": "6b62dd05-a733-4a8f-b0d1-0c1b104fcc36",
   "metadata": {},
   "outputs": [],
   "source": []
  },
  {
   "cell_type": "code",
   "execution_count": null,
   "id": "5fc31a08-3ac6-4a73-87df-dcd11f8f836f",
   "metadata": {},
   "outputs": [],
   "source": []
  },
  {
   "cell_type": "code",
   "execution_count": null,
   "id": "af6ef3a2-ff7e-434f-825e-1148c20ce3c8",
   "metadata": {},
   "outputs": [],
   "source": []
  },
  {
   "cell_type": "code",
   "execution_count": null,
   "id": "79bb1589-5a1a-4c7e-b9d5-18f096d74f31",
   "metadata": {},
   "outputs": [],
   "source": [
    "paths = list(BOOKS.rglob(\"**/*.pdf\"))\n",
    "\n",
    "for _ in range(10):\n",
    "    path = SYSTEM_RANDOM.choice(paths)\n",
    "    path"
   ]
  }
 ],
 "metadata": {
  "kernelspec": {
   "display_name": "Python 3 (ipykernel)",
   "language": "python",
   "name": "python3"
  },
  "language_info": {
   "codemirror_mode": {
    "name": "ipython",
    "version": 3
   },
   "file_extension": ".py",
   "mimetype": "text/x-python",
   "name": "python",
   "nbconvert_exporter": "python",
   "pygments_lexer": "ipython3",
   "version": "3.13.0"
  }
 },
 "nbformat": 4,
 "nbformat_minor": 5
}
